{
 "cells": [
  {
   "cell_type": "code",
   "execution_count": 1,
   "metadata": {},
   "outputs": [
    {
     "name": "stdout",
     "output_type": "stream",
     "text": [
      "Note: you may need to restart the kernel to use updated packages.\n",
      "Note: you may need to restart the kernel to use updated packages.\n",
      "Note: you may need to restart the kernel to use updated packages.\n"
     ]
    }
   ],
   "source": [
    "# Shell commands for environment and package requirements\n",
    "%pip install -Uq pip\n",
    "%pip install -q groq\n",
    "%pip install -q sqlite-vec"
   ]
  },
  {
   "cell_type": "code",
   "execution_count": 2,
   "metadata": {},
   "outputs": [
    {
     "name": "stdout",
     "output_type": "stream",
     "text": [
      "Redback Senior is a wearable technology designed to support the well-being and independence of aging adults. Here are three examples of how you can use Redback Senior:\n",
      "\n",
      "1. **Medication Reminders**: Redback Senior comes equipped with smart medication reminders. Set reminders for your loved one to take their medication on time, and receive notifications if they forget or don't take it as prescribed. This feature can help ensure they're taking their medication correctly, which is especially important for seniors who may have multiple prescriptions to manage.\n",
      "2. **Fall Detection and Emergency Response**: Redback Senior includes a fall detection feature that can alert caregivers or emergency services if the senior falls and is unable to get up or call for help. The device can automatically send a distress signal with the senior's location and medical information, ensuring a rapid response in case of an emergency. This feature can provide peace of mind for seniors, caregivers, and family members, knowing that help is only a button press away.\n",
      "3. **Daily Activity Tracking and Social Engagement**: Redback Senior allows caregivers and family members to track the senior's daily activities, such as exercise, outdoor activities, or social interactions. This feature can help ensure they're staying engaged and active, which is essential for overall health and well-being. You can also use the device to schedule video calls or calendar events to help keep your loved one connected with friends and family, reducing feelings of loneliness and isolation.\n",
      "\n",
      "These are just a few examples of how Redback Senior can help support the well-being and independence of seniors. The device is designed to be easy to use, with a user-friendly interface and minimal setup required.\n"
     ]
    }
   ],
   "source": [
    "from groq import Groq\n",
    "import os\n",
    "\n",
    "# API Test\n",
    "client = Groq(\n",
    "    api_key=os.environ.get(\"GROQ_API_KEY\"),\n",
    ")\n",
    "\n",
    "chat_completion = client.chat.completions.create(\n",
    "    messages=[\n",
    "        {\n",
    "            \"role\": \"user\",\n",
    "            \"content\": \"Give me an 3 best example of how I can use Redback Senior; a wearable technology for the elderly\",\n",
    "        }\n",
    "    ],\n",
    "    model=\"llama3-8b-8192\",\n",
    ")\n",
    "\n",
    "print(chat_completion.choices[0].message.content)"
   ]
  }
 ],
 "metadata": {
  "kernelspec": {
   "display_name": ".venv",
   "language": "python",
   "name": "python3"
  },
  "language_info": {
   "codemirror_mode": {
    "name": "ipython",
    "version": 3
   },
   "file_extension": ".py",
   "mimetype": "text/x-python",
   "name": "python",
   "nbconvert_exporter": "python",
   "pygments_lexer": "ipython3",
   "version": "3.12.1"
  }
 },
 "nbformat": 4,
 "nbformat_minor": 2
}
