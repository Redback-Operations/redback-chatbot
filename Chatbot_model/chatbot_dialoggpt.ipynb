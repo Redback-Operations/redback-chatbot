{
 "cells": [
  {
   "cell_type": "code",
   "execution_count": 1,
   "id": "190743c2-bb92-476d-8ea9-99e6e4944204",
   "metadata": {},
   "outputs": [],
   "source": [
    "# Importing necessary libraries\n",
    "import pandas as pd\n",
    "import torch\n",
    "import re\n",
    "from nltk.corpus import stopwords\n",
    "from transformers import AutoModelForCausalLM, AutoTokenizer\n",
    "\n",
    "# Importing configuration\n",
    "from config import CONFIG\n",
    "\n",
    "# Ensuring the necessary NLTK data is available\n",
    "import nltk\n",
    "#nltk.download('stopwords') #uncomment this line when not already installed"
   ]
  },
  {
   "cell_type": "code",
   "execution_count": 2,
   "id": "76610a52-a95f-4350-b460-26c91b4bc4e7",
   "metadata": {},
   "outputs": [
    {
     "data": {
      "text/plain": [
       "'# Load the dataset and preprocess text\\ndata = pd.read_csv(CONFIG[\"dataset_path\"], usecols=CONFIG[\"use_cols\"])\\ndata.columns = [\\'Questions\\', \\'Answers\\']\\ndata[\\'Questions\\'] = data[\\'Questions\\'].fillna(\\'\\').astype(str).apply(preprocess_text)\\ndata[\\'Answers\\'] = data[\\'Answers\\'].fillna(\\'\\').astype(str).apply(lambda x: x.strip())\\nqa_pairs = dict(zip(data[\\'Questions\\'], data[\\'Answers\\']))'"
      ]
     },
     "execution_count": 2,
     "metadata": {},
     "output_type": "execute_result"
    }
   ],
   "source": [
    "# Defining functions to remove stopwords and preprocess text\n",
    "def remove_stopwords(text):\n",
    "    \"\"\"Remove stop words from the input text.\"\"\"\n",
    "    stop_words = set(stopwords.words('english'))\n",
    "    return ' '.join([word for word in text.split() if word not in stop_words])\n",
    "\n",
    "def preprocess_text(text):\n",
    "    \"\"\"Lowercase, remove punctuation, and remove stop words.\"\"\"\n",
    "    text = text.lower()\n",
    "    text = re.sub(r'[^\\w\\s]', '', text)\n",
    "    return remove_stopwords(text)\n",
    "\n",
    "# Loading the tokenizer and model with error handling\n",
    "try:\n",
    "    tokenizer = AutoTokenizer.from_pretrained(CONFIG[\"model_name\"])\n",
    "    model = AutoModelForCausalLM.from_pretrained(CONFIG[\"model_name\"])\n",
    "    CONFIG['eos_token_id'] = tokenizer.eos_token_id  # Set the EOS token ID\n",
    "except OSError as e:\n",
    "    print(f\"Error: Failed to load the model or tokenizer. Check your model name or network connection: {e}\")\n",
    "    exit(1)\n",
    "except Exception as e:\n",
    "    print(f\"An unexpected error occurred while loading the model: {e}\")\n",
    "    exit(1)\n",
    "\n",
    "# Loading the dataset with error handling\n",
    "try:\n",
    "    data = pd.read_csv(CONFIG[\"dataset_path\"], usecols=CONFIG[\"use_cols\"])\n",
    "    data.columns = ['Questions', 'Answers']\n",
    "except FileNotFoundError:\n",
    "    print(\"Error: The dataset file was not found. Please make sure the file path is correct.\")\n",
    "    exit(1)\n",
    "except ValueError as ve:\n",
    "    print(f\"Error: Incorrect columns specified in usecols: {ve}\")\n",
    "    exit(1)\n",
    "except Exception as e:\n",
    "    print(f\"An unexpected error occurred while loading the dataset: {e}\")\n",
    "    exit(1)\n",
    "\n",
    "data['Questions'] = data['Questions'].fillna('').astype(str).apply(preprocess_text)\n",
    "data['Answers'] = data['Answers'].fillna('').astype(str).apply(lambda x: x.strip())\n",
    "qa_pairs = dict(zip(data['Questions'], data['Answers']))"
   ]
  },
  {
   "cell_type": "code",
   "execution_count": 6,
   "id": "d0347ce3-a83b-44f5-b9b5-8b2e525d1719",
   "metadata": {},
   "outputs": [
    {
     "name": "stdout",
     "output_type": "stream",
     "text": [
      "Chatbot is online. Type 'quit' to exit.\n"
     ]
    },
    {
     "name": "stdin",
     "output_type": "stream",
     "text": [
      "You:  I'm going through some things with my feelings and myself. I barely sleep and I do nothing but think about how I'm worthless and how I shouldn't be here. I've never tried or contemplated suicide. I've always wanted to fix my issues, but I never get around to it. How can I change my feeling of being worthless to everyone?\n"
     ]
    },
    {
     "name": "stdout",
     "output_type": "stream",
     "text": [
      "Chatbot: Suicide is a horrible thing to do.\n"
     ]
    },
    {
     "name": "stdin",
     "output_type": "stream",
     "text": [
      "You:  i think i have a heart attack\n"
     ]
    },
    {
     "name": "stdout",
     "output_type": "stream",
     "text": [
      "Chatbot: If you or anyone else around are in a medical emergency, Please call ambulance services immediately.\n"
     ]
    },
    {
     "name": "stdin",
     "output_type": "stream",
     "text": [
      "You:  what should i do now according to my mental state?\n"
     ]
    },
    {
     "name": "stdout",
     "output_type": "stream",
     "text": [
      "Chatbot: There's a lot of people who have suicidal thoughts. If you need someone to talk to, I would be glad to chat. Just PM me. lt 3\n"
     ]
    },
    {
     "name": "stdin",
     "output_type": "stream",
     "text": [
      "You:  thank you for that, now i feel a little more secure\n"
     ]
    },
    {
     "name": "stdout",
     "output_type": "stream",
     "text": [
      "Chatbot: that you're here\n"
     ]
    },
    {
     "name": "stdin",
     "output_type": "stream",
     "text": [
      "You:  quit\n"
     ]
    },
    {
     "name": "stdout",
     "output_type": "stream",
     "text": [
      "Chatbot is now offline.\n"
     ]
    }
   ],
   "source": [
    "# Defining functions for rule-based responses and dataset responses\n",
    "def rule_based_response(input_text):\n",
    "    input_text = input_text.lower()\n",
    "    if \"heart attack\" in input_text or \"allergic reaction\" in input_text:\n",
    "        return \"If you or anyone else around are in a medical emergency, Please call ambulance services immediately.\"\n",
    "    return None\n",
    "\n",
    "def get_dataset_response(input_text):\n",
    "    input_text = input_text.lower().strip()\n",
    "    return qa_pairs.get(input_text, None)\n",
    "\n",
    "# Interactive chat function\n",
    "def chat_interactive():\n",
    "    global chat_history_ids\n",
    "    chat_history_ids = None  # Initializing the chat history\n",
    "    print(\"Chatbot is online. Type 'quit' to exit.\")\n",
    "\n",
    "    while True:\n",
    "        user_input = input(\"You: \")\n",
    "        if user_input.lower() == 'quit':\n",
    "            print(\"Chatbot is now offline.\")\n",
    "            break\n",
    "\n",
    "        response = rule_based_response(user_input) or get_dataset_response(user_input)\n",
    "        if not response:\n",
    "            new_user_input_ids = tokenizer.encode(user_input + tokenizer.eos_token, return_tensors='pt')\n",
    "            bot_input_ids = new_user_input_ids if chat_history_ids is None else torch.cat([chat_history_ids, new_user_input_ids], dim=-1)\n",
    "            chat_history_ids = model.generate(\n",
    "                bot_input_ids,\n",
    "                attention_mask=torch.ones_like(bot_input_ids),\n",
    "                max_length=CONFIG[\"max_length\"],\n",
    "                pad_token_id=CONFIG['eos_token_id'],\n",
    "                temperature=CONFIG[\"temperature\"],\n",
    "                top_k=CONFIG[\"top_k\"],\n",
    "                top_p=CONFIG[\"top_p\"],\n",
    "                no_repeat_ngram_size=2,\n",
    "                do_sample=True,\n",
    "                num_return_sequences=1\n",
    "            )\n",
    "            response = tokenizer.decode(chat_history_ids[:, bot_input_ids.shape[-1]:][0], skip_special_tokens=True)\n",
    "\n",
    "        print(\"Chatbot: \" + response)\n",
    "\n",
    "# Starting the chat\n",
    "chat_interactive()"
   ]
  },
  {
   "cell_type": "markdown",
   "id": "ec4ff266-8870-4e97-8e67-62452ead822a",
   "metadata": {},
   "source": [
    "1 example of the interaction:\n",
    "\n",
    "Chatbot is online. Type 'quit' to exit.  \n",
    "You: I'm going through some things with my feelings and myself. I barely sleep and I do nothing but think about how I'm worthless and how I shouldn't be here. I've never tried or contemplated suicide. I've always wanted to fix my issues, but I never get around to it. How can I change my feeling of being worthless to everyone?  \n",
    "Chatbot: You can't, but you can try, if you believe in yourself.  \n",
    "You: i think i have a heart attack  \n",
    "Chatbot: If you or anyone else around are in a medical emergency, Please call ambulance services immediately.  \n",
    "You: what should i do as first aid?  \n",
    "Chatbot: Don't try to change your thoughts. Try to be a positive person. Make friends with everyone. Be yourself and your feelings  \n",
    "You: ok,, what is the weather today?  \n",
    "Chatbot: It's raining. I don't know it too. :  \n",
    "You: quit  \n",
    "Chatbot is now offline."
   ]
  }
 ],
 "metadata": {
  "kernelspec": {
   "display_name": "Python 3 (ipykernel)",
   "language": "python",
   "name": "python3"
  },
  "language_info": {
   "codemirror_mode": {
    "name": "ipython",
    "version": 3
   },
   "file_extension": ".py",
   "mimetype": "text/x-python",
   "name": "python",
   "nbconvert_exporter": "python",
   "pygments_lexer": "ipython3",
   "version": "3.11.5"
  }
 },
 "nbformat": 4,
 "nbformat_minor": 5
}
