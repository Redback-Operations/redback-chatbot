{
 "cells": [
  {
   "cell_type": "markdown",
   "metadata": {},
   "source": [
    "Shell commands for environment and package requirements."
   ]
  },
  {
   "cell_type": "code",
   "execution_count": 1,
   "metadata": {},
   "outputs": [
    {
     "name": "stdout",
     "output_type": "stream",
     "text": [
      "Note: you may need to restart the kernel to use updated packages.\n",
      "Note: you may need to restart the kernel to use updated packages.\n",
      "Note: you may need to restart the kernel to use updated packages.\n"
     ]
    }
   ],
   "source": [
    "%pip install -Uq pip\n",
    "%pip install -q groq\n",
    "%pip install -q sqlite-vec"
   ]
  },
  {
   "cell_type": "code",
   "execution_count": 2,
   "metadata": {},
   "outputs": [],
   "source": [
    "from groq import Groq\n",
    "import os"
   ]
  },
  {
   "cell_type": "code",
   "execution_count": 3,
   "metadata": {},
   "outputs": [
    {
     "name": "stdout",
     "output_type": "stream",
     "text": [
      "Redback's Senior Wearable Technology is a innovative device designed to provide safety, independence, and peace of mind for the elderly. Here are three examples of how you can use it:\n",
      "\n",
      "**Example 1: Fall Detection and Response**\n",
      "\n",
      "The Redback Senior Wearable Technology can detect falls and automatically send an alert to family members, caregivers, or emergency services if the user doesn't respond or doesn't have a compatible device nearby. This feature can provide timely assistance, reducing the risk of harm or injury from falls. For instance, if an elderly person falls in their home, the device can alert their caregiver or emergency services to send help, ensuring prompt assistance and reducing the risk of long-term health consequences.\n",
      "\n",
      "**Example 2: Medication Reminders and Adherence**\n",
      "\n",
      "The wearable technology can be programmed to send reminders for medication-taking, helping senior users to stay on track with their medication regimen. This feature can be especially helpful for individuals with chronic conditions or multiple prescriptions, as it can reduce the risk of medication non-adherence and improve overall health outcomes. For example, the device can send a reminder every day at 8:00 AM to take a specific medication, helping to ensure that the elderly person takes their medication as prescribed.\n",
      "\n",
      "**Example 3: Activity Tracking and Social Engagement**\n",
      "\n",
      "The Redback Senior Wearable Technology can track daily activities, such as steps taken, distance traveled, and time spent engaged in physical activities. This data can be used to monitor the user's physical activity levels, provide insights on potential risks or areas for improvement, and even encourage social engagement through interactive games or challenges. For instance, the device can prompt users to take a short walk around the block every day, helping to maintain physical mobility and reduce sedentary behavior. The device can also connect seniors with family members or friends, reducing feelings of loneliness and isolation.\n",
      "\n",
      "These are just a few examples of how the Redback Senior Wearable Technology can be used to promote the health, safety, and well-being of elderly individuals. The device's capabilities can be tailored to meet the unique needs of each user, providing a personalized experience that supports independence, mobility, and overall quality of life.\n"
     ]
    }
   ],
   "source": [
    "# API Test\n",
    "client = Groq(\n",
    "    api_key=os.getenv(\"GROQ_API_KEY\"),\n",
    ")\n",
    "\n",
    "chat_completion = client.chat.completions.create(\n",
    "    messages=[\n",
    "        {\n",
    "            \"role\": \"user\",\n",
    "            \"content\": \"Give me an 3 best example of how I can use Redback Senior; a wearable technology for the elderly\",\n",
    "        }\n",
    "    ],\n",
    "    model=\"llama3-8b-8192\",\n",
    ")\n",
    "\n",
    "print(chat_completion.choices[0].message.content)"
   ]
  }
 ],
 "metadata": {
  "kernelspec": {
   "display_name": ".venv",
   "language": "python",
   "name": "python3"
  },
  "language_info": {
   "codemirror_mode": {
    "name": "ipython",
    "version": 3
   },
   "file_extension": ".py",
   "mimetype": "text/x-python",
   "name": "python",
   "nbconvert_exporter": "python",
   "pygments_lexer": "ipython3",
   "version": "3.12.1"
  }
 },
 "nbformat": 4,
 "nbformat_minor": 2
}
